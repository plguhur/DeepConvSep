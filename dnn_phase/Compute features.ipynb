{
 "cells": [
  {
   "cell_type": "code",
   "execution_count": 10,
   "metadata": {},
   "outputs": [
    {
     "name": "stdout",
     "output_type": "stream",
     "text": [
      "The autoreload extension is already loaded. To reload it, use:\n",
      "  %reload_ext autoreload\n"
     ]
    }
   ],
   "source": [
    "%load_ext autoreload\n",
    "%autoreload 2\n",
    "\n",
    "import os,sys\n",
    "import transform\n",
    "import util\n",
    "from transform import transformFFT\n",
    "import numpy as np\n",
    "import re\n",
    "from scipy.signal import blackmanharris as blackmanharris\n",
    "\n",
    "db = 'DSD100subset'\n",
    "feature_path = 'output_folder/features'\n",
    "\n",
    "os.makedirs(feature_path, exist_ok=True)\n",
    "assert os.path.isdir(db), \"Please input the directory for the DSD100 dataset\"\n",
    "    \n",
    "mixture_directory = os.path.join(db,'Mixtures')\n",
    "source_directory = os.path.join(db,'Sources')\n",
    "\n",
    "\n",
    "def infoAudioScipy(filein):\n",
    "    sampleRate, audioObj = scipy.io.wavfile.read(filein)\n",
    "    bitrate = audioObj.dtype\n",
    "    nsamples = len(audioObj)\n",
    "    audioObj = None\n",
    "    return nsamples, sampleRate, bitrate\n",
    "\n",
    "def readAudioScipy(filein):\n",
    "    sampleRate, audioObj = scipy.io.wavfile.read(filein)\n",
    "    bitrate = audioObj.dtype\n",
    "    try:\n",
    "        maxv = np.finfo(bitrate).max\n",
    "    except:\n",
    "        maxv = np.iinfo(bitrate).max\n",
    "    return audioObj.astype('float')/maxv, sampleRate, bitrate\n",
    "\n",
    "def writeAudioScipy(fileout,audio_out,sampleRate,bitrate=\"int16\"):\n",
    "    maxn = np.iinfo(bitrate).max\n",
    "    scipy.io.wavfile.write(filename=fileout, rate=sampleRate, data=(audio_out*maxn).astype(bitrate))\n",
    "\n",
    "\n",
    "#circular shift audio with 'cs'\n",
    "def circular_shift(audio,min_size,cs=0.1,sampleRate=44100):\n",
    "    if cs == 0:\n",
    "        if len(audio) > min_size:\n",
    "            segment = audio[:min_size]\n",
    "        else:\n",
    "            segment = np.zeros(min_size)\n",
    "            segment[:len(audio)] = audio\n",
    "    elif cs < 0:\n",
    "        seg_idx = int(abs(cs*sampleRate))\n",
    "        segment = np.pad(audio,((0,seg_idx+np.maximum(0,min_size-len(audio)))), mode='constant')\n",
    "        if len(segment)<(min_size+seg_idx):\n",
    "            segment = np.pad(segment,((0,min_size+seg_idx - len(segment))), mode='constant')\n",
    "        segment = segment[seg_idx:min_size+seg_idx]\n",
    "    else:\n",
    "        segment = np.pad(audio,((int(cs*sampleRate),0)), mode='constant')\n",
    "        if len(segment)<min_size:\n",
    "            segment = np.pad(segment,((0,min_size - len(segment))), mode='constant')\n",
    "        segment = segment[:min_size]\n",
    "\n",
    "    return segment\n",
    "\n",
    "\n",
    "class interpolate:\n",
    "    def __init__(self,cqt,Ls):\n",
    "        from scipy.interpolate import interp1d\n",
    "        self.intp = [interp1d(np.linspace(0,Ls,len(r)),r) for r in cqt]\n",
    "    def __call__(self,x):\n",
    "        try:\n",
    "            len(x)\n",
    "        except:\n",
    "            return np.array([i(x) for i in self.intp])\n",
    "        else:\n",
    "            return np.array([[i(xi) for i in self.intp] for xi in x])\n",
    "\n",
    "class interpolate1d:\n",
    "    def __init__(self,cqt,Ls):\n",
    "        from scipy.interpolate import interp1d\n",
    "        self.intp = interp1d(np.linspace(0,Ls,len(cqt)),cqt)\n",
    "    def __call__(self,x):\n",
    "        try:\n",
    "            len(x)\n",
    "        except:\n",
    "            return np.array([self.intp(xi) for xi in x],dtype='complex128')\n",
    "        else:\n",
    "            return np.array([self.intp(xi) for xi in x],dtype='complex128')\n",
    "\n",
    "def saveObj(obj,filename):\n",
    "    with open(filename, 'wb') as output:\n",
    "        pickle.dump(obj, output, -1)\n",
    "\n",
    "def loadObj(filename):\n",
    "    with open(filename, 'rb') as input:\n",
    "        obj= pickle.load(input)\n",
    "    return obj\n",
    "\n",
    "def emptyDir(dirPath):\n",
    "    fileList = os.listdir(dirPath)\n",
    "    for fileName in fileList:\n",
    "        os.remove(os.path.join(dirPath,fileName))"
   ]
  },
  {
   "cell_type": "code",
   "execution_count": 9,
   "metadata": {},
   "outputs": [
    {
     "data": {
      "text/plain": [
       "'DSD100subset'"
      ]
     },
     "execution_count": 9,
     "metadata": {},
     "output_type": "execute_result"
    }
   ],
   "source": [
    "db"
   ]
  }
 ],
 "metadata": {
  "kernelspec": {
   "display_name": "Python 3",
   "language": "python",
   "name": "python3"
  },
  "language_info": {
   "codemirror_mode": {
    "name": "ipython",
    "version": 3
   },
   "file_extension": ".py",
   "mimetype": "text/x-python",
   "name": "python",
   "nbconvert_exporter": "python",
   "pygments_lexer": "ipython3",
   "version": "3.6.8"
  }
 },
 "nbformat": 4,
 "nbformat_minor": 2
}
