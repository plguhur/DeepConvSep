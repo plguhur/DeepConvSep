{
 "cells": [
  {
   "cell_type": "code",
   "execution_count": null,
   "metadata": {
    "collapsed": true
   },
   "outputs": [],
   "source": [
    "import os"
   ]
  },
  {
   "cell_type": "code",
   "execution_count": null,
   "metadata": {},
   "outputs": [],
   "source": [
    "cwd = \"DSD100subset/Mixtures/Dev\""
   ]
  },
  {
   "cell_type": "code",
   "execution_count": null,
   "metadata": {},
   "outputs": [],
   "source": [
    "y = [x[0] for x in os.walk(cwd)]"
   ]
  },
  {
   "cell_type": "code",
   "execution_count": null,
   "metadata": {},
   "outputs": [],
   "source": [
    "for i in range(1,51):\n",
    "    \n",
    "    out_dir = \"your_output_path\" + y[i].split(\"/\")[6] + \"/\" + y[i].split(\"/\")[7]\n",
    "    \n",
    "    out_dir_w = out_dir.replace(\" \", \"\\ \")\n",
    "\n",
    "    data_dir = y[i].replace(\" \", \"\\ \")\n",
    "    \n",
    "    if not os.path.exists(out_dir):\n",
    "        os.makedirs(out_dir)\n",
    "\n",
    "    os.system(\"python separate_dsd.py -i \" + data_dir + \"/mixture.wav\" + \" -o \" +  out_dir_w + \" -m model_dsd_fft_1024.pkl\")\n",
    "    "
   ]
  }
 ],
 "metadata": {
  "kernelspec": {
   "display_name": "Python 3",
   "language": "python",
   "name": "python3"
  },
  "language_info": {
   "codemirror_mode": {
    "name": "ipython",
    "version": 3
   },
   "file_extension": ".py",
   "mimetype": "text/x-python",
   "name": "python",
   "nbconvert_exporter": "python",
   "pygments_lexer": "ipython3",
   "version": "3.6.8"
  }
 },
 "nbformat": 4,
 "nbformat_minor": 2
}
