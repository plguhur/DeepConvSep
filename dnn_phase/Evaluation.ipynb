{
 "cells": [
  {
   "cell_type": "code",
   "execution_count": null,
   "metadata": {},
   "outputs": [],
   "source": [
    "%load_ext autoreload\n",
    "%autoreload 2\n",
    "\n",
    "from scipy.signal import blackmanharris, gaussian\n",
    "from scipy.io import wavfile\n",
    "import os\n",
    "import time\n",
    "import matplotlib.pyplot as plt\n",
    "from phase_transform import PhaseTransform\n",
    "from pathlib import Path\n",
    "import numpy as np\n",
    "from utils import *\n",
    "from glob import glob \n",
    "from keras.models import load_model\n",
    "from tqdm import tqdm\n",
    "import itertools\n",
    "\n",
    "sample_rate = 44100\n",
    "nfft = 4096\n",
    "freq_bins = nfft//2+1\n",
    "time_context = 11\n",
    "num_epochs = 10\n",
    "f = np.arange(freq_bins)*sample_rate/nfft\n",
    "t = np.arange(time_context, dtype=float)/sample_rate*nfft\n",
    "tt = PhaseTransform(frameSize=nfft, hopSize=nfft//4, sampleRate=sample_rate, window=blackmanharris)\n",
    "\n",
    "sources = ['vocals','bass','drums','other']\n",
    "models_path = Path(\"results\") / \"models\"\n",
    "models = [load_model(models_path / (s+\".h5\")) for s in sources]\n",
    "n_sources = len(sources)\n",
    "channels = ['left', 'right']\n",
    "n_channels = len(channels)\n"
   ]
  },
  {
   "cell_type": "code",
   "execution_count": 5,
   "metadata": {},
   "outputs": [
    {
     "name": "stderr",
     "output_type": "stream",
     "text": [
      "\n",
      "  0%|          | 0/3 [00:00<?, ?it/s]\u001b[A\n",
      " 33%|███▎      | 1/3 [00:20<00:41, 20.62s/it]\u001b[A\n",
      " 67%|██████▋   | 2/3 [00:41<00:20, 20.61s/it]\u001b[A\n",
      "100%|██████████| 3/3 [01:01<00:00, 20.56s/it]\u001b[A\n",
      "\u001b[A"
     ]
    }
   ],
   "source": [
    "features = Path(\"results/features/train\")\n",
    "songs = Path(\"results/sep/train\")\n",
    "# song = \"066 - Flags - 54\"\n",
    "song = \"051 - AM Contra - Heart Peripheral\"\n",
    "\n",
    "os.makedirs(songs, exist_ok=True)\n",
    "os.makedirs(songs / song, exist_ok=True)\n",
    "\n",
    "def reconstitute_song(song, transform=tt, models=[], n_channels=2, time_context=11):\n",
    "    n_parts = len(glob(f\"{song}*.data\")) // 4\n",
    "    n_parts = 4 #FIXME\n",
    "    n_sources = len(models)\n",
    "    rec_in = []\n",
    "    rec_out = []\n",
    "    \n",
    "    for i in tqdm(range(n_parts-1)): #FIXME -1 because on an error in compute_features\n",
    "        mag_in = load_tensor(song + \"_\" + str(i) + \"_in_m_.data\", window=(0,time_context,0))\n",
    "        phs_in = load_tensor(song + \"_\" + str(i) + \"_in_p_.data\", window=(0,time_context,0,0))\n",
    "        ph_in, df_ph_in, dt_ph_in = phs_in[...,0], phs_in[...,1], phs_in[...,2]\n",
    "        mag_out = load_tensor(song + \"_\" + str(i) + \"_out_m_.data\", window=(0,time_context,0))\n",
    "        phs_out = load_tensor(song + \"_\" + str(i) + \"_out_p_.data\", window=(0,time_context,0,0))\n",
    "        ph_out, df_ph_out, dt_ph_out = phs_out[...,0], phs_out[...,1], phs_out[...,2]\n",
    "        \n",
    "        rec_in_parts = None\n",
    "        rec_out_parts = None\n",
    "        for j, (k, model) in itertools.product(range(n_channels), enumerate(models)):\n",
    "            mag_pred = model.predict([mag_in, df_ph_in, dt_ph_in])\n",
    "            rec_in_part = transform.compute_inverse(mag_pred[:,j,:], \n",
    "#             rec_in_part = transform.compute_inverse(mag_in[:,j,0,:], \n",
    "                                                    ph_in[:,j,0,:])\n",
    "            rec_out_part = transform.compute_inverse(mag_out[:,k*n_channels+j,0,:], \n",
    "                                                     ph_out[:,k*n_channels+j,0,:])\n",
    "            if rec_out_parts is None:\n",
    "                rec_in_parts = np.zeros((n_channels*n_sources, len(rec_in_part)))\n",
    "                rec_out_parts = np.zeros((n_channels*n_sources, len(rec_out_part)))\n",
    "            rec_in_parts[k*n_channels+j] = rec_in_part\n",
    "            rec_out_parts[k*n_channels+j] = rec_out_part\n",
    "        \n",
    "        rec_in.append(rec_in_parts)\n",
    "        rec_out.append(rec_out_parts)\n",
    "    \n",
    "    return np.concatenate(rec_in, axis=1).T, np.concatenate(rec_out, axis=1).T\n",
    "\n",
    "\n",
    "reconstructed, original = reconstitute_song(str(features / song),\n",
    "                                models=models)"
   ]
  },
  {
   "cell_type": "code",
   "execution_count": 6,
   "metadata": {},
   "outputs": [
    {
     "name": "stdout",
     "output_type": "stream",
     "text": [
      "results/sep/train/051 - AM Contra - Heart Peripheral/mss/vocals.wav\n",
      "results/sep/train/051 - AM Contra - Heart Peripheral/mss/bass.wav\n",
      "results/sep/train/051 - AM Contra - Heart Peripheral/mss/drums.wav\n",
      "results/sep/train/051 - AM Contra - Heart Peripheral/mss/other.wav\n",
      "results/sep/train/051 - AM Contra - Heart Peripheral/orig/vocals.wav\n",
      "results/sep/train/051 - AM Contra - Heart Peripheral/orig/bass.wav\n",
      "results/sep/train/051 - AM Contra - Heart Peripheral/orig/drums.wav\n",
      "results/sep/train/051 - AM Contra - Heart Peripheral/orig/other.wav\n"
     ]
    }
   ],
   "source": [
    "def export_song(folder, mix_song, sources=sources, n_channels=n_channels, sample_rate=sample_rate):\n",
    "    for i, s in enumerate(sources):\n",
    "        filename = str(folder / (s + \".wav\"))\n",
    "        print(filename)\n",
    "        wavfile.write(filename, sample_rate, mix_song[:, i*n_channels:(i+1)*n_channels])\n",
    "    \n",
    "    \n",
    "orig_folder = songs / song / \"orig\"\n",
    "mss_folder = songs / song / \"mss\"\n",
    "os.makedirs(mss_folder, exist_ok=True)\n",
    "os.makedirs(orig_folder, exist_ok=True)\n",
    "export_song(mss_folder, reconstructed, sources=sources)\n",
    "export_song(orig_folder, original, sources=sources)"
   ]
  },
  {
   "cell_type": "markdown",
   "metadata": {},
   "source": [
    "# MSE\n",
    "An MSE of 1e-5 is still big relatively to the small amplitude quantities"
   ]
  },
  {
   "cell_type": "code",
   "execution_count": 15,
   "metadata": {},
   "outputs": [
    {
     "name": "stdout",
     "output_type": "stream",
     "text": [
      "0.0001940932273385836 0.002777664 0.002442567708069021\n"
     ]
    }
   ],
   "source": [
    "def mse(A, B):\n",
    "    return ((A - B)**2).mean()\n",
    "\n",
    "i = 0\n",
    "time_context = 11\n",
    "model = models[0]\n",
    "mag_in = load_tensor(str(features / song) + \"_\" + str(i) + \"_in_m_.data\", window=(0,time_context,0))\n",
    "phs_in = load_tensor(str(features / song) + \"_\" + str(i) + \"_in_p_.data\", window=(0,time_context,0,0))\n",
    "ph_in, df_ph_in, dt_ph_in = phs_in[...,0], phs_in[...,1], phs_in[...,2]\n",
    "mag_pred = model.predict([mag_in, df_ph_in, dt_ph_in])\n",
    "mag_out = load_tensor(str(features / song) + \"_\" + str(i) + \"_out_m_.data\", window=(0,time_context,0))\n",
    "print(mse(mag_pred[:,0,:], mag_out[:, 0,0,:]), mag_pred.mean(), mag_out.mean())"
   ]
  },
  {
   "cell_type": "code",
   "execution_count": 26,
   "metadata": {},
   "outputs": [
    {
     "name": "stdout",
     "output_type": "stream",
     "text": [
      "nan\n"
     ]
    },
    {
     "name": "stderr",
     "output_type": "stream",
     "text": [
      "/home/pierre-louis/.pyenv/versions/3.6.7/lib/python3.6/site-packages/ipykernel_launcher.py:1: RuntimeWarning: invalid value encountered in log\n",
      "  \"\"\"Entry point for launching an IPython kernel.\n"
     ]
    }
   ],
   "source": [
    "print(mse(np.log(1e-4+mag_pred[:,0,:]), np.log(1e-4+mag_out[:, 0,0,:])))"
   ]
  },
  {
   "cell_type": "code",
   "execution_count": 29,
   "metadata": {},
   "outputs": [
    {
     "data": {
      "image/png": "[encoded data removed]",
      "text/plain": [
       "<Figure size 432x288 with 3 Axes>"
      ]
     },
     "metadata": {
      "needs_background": "light"
     },
     "output_type": "display_data"
    }
   ],
   "source": [
    "def plot_spectogram(mags, sample_rate=44100, nfft=4096):\n",
    "    if not isinstance(mags, list):\n",
    "        mags = [mags]\n",
    "    \n",
    "    n_mags = len(mags)\n",
    "    for i, mag in enumerate(mags):\n",
    "        f = np.arange(mag.shape[1])*sample_rate/nfft\n",
    "        t = np.arange(mag.shape[0], dtype=float)/sample_rate*nfft\n",
    "        logmag = np.log(1e-8 + np.abs(mag))\n",
    "\n",
    "        n = int(1*sample_rate/nfft)\n",
    "        plt.subplot(1, n_mags, i+1)\n",
    "        plt.pcolormesh(t[:n,], f[:,], logmag[:n,:].T)\n",
    "        \n",
    "        plt.ylabel('Frequency [Hz]')\n",
    "        plt.xlabel('Time [sec]')\n",
    "    \n",
    "    plt.colorbar()\n",
    "\n",
    "plot_spectogram( [mag_out[:, 0,0,:], mag_pred[:,0,:]])"
   ]
  }
 ],
 "metadata": {
  "kernelspec": {
   "display_name": "Python 3",
   "language": "python",
   "name": "python3"
  },
  "language_info": {
   "codemirror_mode": {
    "name": "ipython",
    "version": 3
   },
   "file_extension": ".py",
   "mimetype": "text/x-python",
   "name": "python",
   "nbconvert_exporter": "python",
   "pygments_lexer": "ipython3",
   "version": "3.6.7"
  }
 },
 "nbformat": 4,
 "nbformat_minor": 2
}
