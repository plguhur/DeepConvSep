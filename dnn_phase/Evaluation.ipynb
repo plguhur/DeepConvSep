{
 "cells": [
  {
   "cell_type": "code",
   "execution_count": 8,
   "metadata": {},
   "outputs": [
    {
     "name": "stdout",
     "output_type": "stream",
     "text": [
      "The autoreload extension is already loaded. To reload it, use:\n",
      "  %reload_ext autoreload\n"
     ]
    }
   ],
   "source": [
    "%load_ext autoreload\n",
    "%autoreload 2\n",
    "\n",
    "from scipy.signal import blackmanharris, gaussian\n",
    "from scipy.io import wavfile\n",
    "import os\n",
    "import time\n",
    "import matplotlib.pyplot as plt\n",
    "from phase_transform import PhaseTransform\n",
    "from pathlib import Path\n",
    "import numpy as np\n",
    "from utils import *\n",
    "from glob import glob \n",
    "from keras.models import load_model\n",
    "from tqdm import tqdm\n",
    "\n",
    "\n",
    "sample_rate = 44100\n",
    "nfft = 2048\n",
    "freq_bins = nfft//2+1\n",
    "time_context = 11\n",
    "num_epochs = 10\n",
    "f = np.arange(freq_bins)*sample_rate/nfft\n",
    "t = np.arange(time_context, dtype=float)/sample_rate*nfft\n",
    "tt = PhaseTransform(frameSize=nfft, hopSize=nfft//4, sampleRate=sample_rate, window=blackmanharris)\n",
    "\n",
    "sources = ['vocals','bass','drums','other']\n",
    "models_path = Path(\"results\") / \"models\"\n",
    "models = [load_model(models_path / (s+\".h5\")) for s in sources]\n",
    "n_sources = len(sources)\n",
    "channels = ['left', 'right']\n",
    "n_channels = len(channels)\n"
   ]
  },
  {
   "cell_type": "code",
   "execution_count": 9,
   "metadata": {},
   "outputs": [
    {
     "name": "stderr",
     "output_type": "stream",
     "text": [
      "100%|██████████| 1/1 [00:08<00:00,  8.44s/it]\n"
     ]
    }
   ],
   "source": [
    "features = Path(\"results/features/valid\")\n",
    "songs = Path(\"results/sep/valid\")\n",
    "song = \"059 - Black Bloc - If You Want Success\"\n",
    "\n",
    "os.makedirs(songs, exist_ok=True)\n",
    "os.makedirs(songs / song, exist_ok=True)\n",
    "\n",
    "def reconstitute_song(song, transform=tt, models=[], n_channels=2, time_context=11):\n",
    "    n_parts = len(glob(f\"{song}*.data\")) // 4\n",
    "    n_parts = 2 #FIXME\n",
    "    n_sources = len(models)\n",
    "    rec_in = []\n",
    "    rec_out = []\n",
    "    \n",
    "    for i in tqdm(range(n_parts-1)): #FIXME -1 because on an error in compute_features\n",
    "        mag_in = load_tensor(song + \"_\" + str(i) + \"_in_m_.data\", window=(0,time_context,0))\n",
    "        phs_in = load_tensor(song + \"_\" + str(i) + \"_in_p_.data\", window=(0,time_context,0,0))\n",
    "        ph_in, df_ph_in, dt_ph_in = phs_in[...,0], phs_in[...,1], phs_in[...,2]\n",
    "        mag_out = load_tensor(song + \"_\" + str(i) + \"_out_m_.data\", window=(0,time_context,0))\n",
    "        phs_out = load_tensor(song + \"_\" + str(i) + \"_out_p_.data\", window=(0,time_context,0,0))\n",
    "        ph_out, df_ph_out, dt_ph_out = phs_out[...,0], phs_out[...,1], phs_out[...,2]\n",
    "        \n",
    "        rec_in_parts = None\n",
    "        rec_out_parts = None\n",
    "        for j, (k, model) in zip(range(n_channels), enumerate(models)):\n",
    "            mag_pred = model.predict([mag_in, df_ph_in, dt_ph_in])\n",
    "            rec_in_part = transform.compute_inverse(mag_pred[:,j,:], \n",
    "                                                    ph_in[:,j,0,:])\n",
    "            rec_out_part = transform.compute_inverse(mag_out[:,k*n_channels+j,0,:], \n",
    "                                                     ph_out[:,k*n_channels+j,0,:])\n",
    "            if rec_out_parts is None:\n",
    "                rec_in_parts = np.zeros((n_channels*n_sources, len(rec_in_part)))\n",
    "                rec_out_parts = np.zeros((n_channels*n_sources, len(rec_in_part)))\n",
    "            rec_in_parts[k*n_channels+j] = rec_in_part\n",
    "            rec_out_parts[k*n_channels+j] = rec_out_part\n",
    "        \n",
    "        rec_in.append(rec_in_parts)\n",
    "        rec_out.append(rec_out_parts)\n",
    "    \n",
    "    return np.concatenate(rec_in, axis=0).T, np.concatenate(rec_out, axis=0).T\n",
    "\n",
    "\n",
    "reconstructed, original = reconstitute_song(str(features / song),\n",
    "                                models=models)"
   ]
  },
  {
   "cell_type": "code",
   "execution_count": 10,
   "metadata": {},
   "outputs": [
    {
     "name": "stdout",
     "output_type": "stream",
     "text": [
      "results/sep/valid/059 - Black Bloc - If You Want Success/mss/vocals.wav\n",
      "results/sep/valid/059 - Black Bloc - If You Want Success/mss/bass.wav\n",
      "results/sep/valid/059 - Black Bloc - If You Want Success/mss/drums.wav\n",
      "results/sep/valid/059 - Black Bloc - If You Want Success/mss/other.wav\n",
      "results/sep/valid/059 - Black Bloc - If You Want Success/orig/vocals.wav\n",
      "results/sep/valid/059 - Black Bloc - If You Want Success/orig/bass.wav\n",
      "results/sep/valid/059 - Black Bloc - If You Want Success/orig/drums.wav\n",
      "results/sep/valid/059 - Black Bloc - If You Want Success/orig/other.wav\n"
     ]
    }
   ],
   "source": [
    "def export_song(folder, mix_song, sources=sources, n_channels=n_channels, sample_rate=sample_rate):\n",
    "    for i, s in enumerate(sources):\n",
    "        filename = str(folder / (s + \".wav\"))\n",
    "        print(filename)\n",
    "        wavfile.write(filename, sample_rate, mix_song[:, i*n_channels:(i+1)*n_channels])\n",
    "    \n",
    "    \n",
    "orig_folder = songs / song / \"orig\"\n",
    "mss_folder = songs / song / \"mss\"\n",
    "os.makedirs(mss_folder, exist_ok=True)\n",
    "os.makedirs(orig_folder, exist_ok=True)\n",
    "export_song(mss_folder, reconstructed, sources=sources)\n",
    "export_song(orig_folder, original, sources=sources)"
   ]
  },
  {
   "cell_type": "code",
   "execution_count": 7,
   "metadata": {},
   "outputs": [
    {
     "data": {
      "text/plain": [
       "[<matplotlib.lines.Line2D at 0x7f97198b8da0>,\n",
       " <matplotlib.lines.Line2D at 0x7f97197b2e80>,\n",
       " <matplotlib.lines.Line2D at 0x7f97197b2fd0>,\n",
       " <matplotlib.lines.Line2D at 0x7f97197bc160>,\n",
       " <matplotlib.lines.Line2D at 0x7f97197bc2b0>,\n",
       " <matplotlib.lines.Line2D at 0x7f97197bc400>,\n",
       " <matplotlib.lines.Line2D at 0x7f97197bc550>,\n",
       " <matplotlib.lines.Line2D at 0x7f97197bc6a0>]"
      ]
     },
     "execution_count": 7,
     "metadata": {},
     "output_type": "execute_result"
    },
    {
     "data": {
      "image/png": "[encoded data removed]",
      "text/plain": [
       "<Figure size 432x288 with 1 Axes>"
      ]
     },
     "metadata": {
      "needs_background": "light"
     },
     "output_type": "display_data"
    }
   ],
   "source": [
    "plt.plot(original[:,])"
   ]
  },
  {
   "cell_type": "code",
   "execution_count": null,
   "metadata": {},
   "outputs": [],
   "source": []
  }
 ],
 "metadata": {
  "kernelspec": {
   "display_name": "Python 3",
   "language": "python",
   "name": "python3"
  },
  "language_info": {
   "codemirror_mode": {
    "name": "ipython",
    "version": 3
   },
   "file_extension": ".py",
   "mimetype": "text/x-python",
   "name": "python",
   "nbconvert_exporter": "python",
   "pygments_lexer": "ipython3",
   "version": "3.6.7"
  }
 },
 "nbformat": 4,
 "nbformat_minor": 2
}
